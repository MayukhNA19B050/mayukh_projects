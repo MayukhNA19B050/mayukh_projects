{
  "nbformat": 4,
  "nbformat_minor": 0,
  "metadata": {
    "colab": {
      "name": "Placement predictor",
      "provenance": [],
      "collapsed_sections": []
    },
    "kernelspec": {
      "name": "python3",
      "display_name": "Python 3"
    },
    "language_info": {
      "name": "python"
    }
  },
  "cells": [
    {
      "cell_type": "code",
      "source": [
        "from google.colab import drive\n",
        "drive.mount('/content/drive')"
      ],
      "metadata": {
        "colab": {
          "base_uri": "https://localhost:8080/"
        },
        "id": "4TSbWwlx-uWQ",
        "outputId": "f6a6bb28-21b3-4372-8692-4b62997c7f89"
      },
      "execution_count": null,
      "outputs": [
        {
          "output_type": "stream",
          "name": "stdout",
          "text": [
            "Mounted at /content/drive\n"
          ]
        }
      ]
    },
    {
      "cell_type": "code",
      "source": [
        "import pandas as pd\n",
        "import numpy as np\n",
        "import seaborn as sns\n",
        "import matplotlib.pyplot as plt"
      ],
      "metadata": {
        "id": "nYk_32gw_ryG"
      },
      "execution_count": null,
      "outputs": []
    },
    {
      "cell_type": "code",
      "source": [
        "data = pd.read_csv('/content/drive/MyDrive/Placement survey 2021-22.csv')"
      ],
      "metadata": {
        "id": "ifDC7DtC_PHu"
      },
      "execution_count": null,
      "outputs": []
    },
    {
      "cell_type": "code",
      "source": [
        "data['What is the job profile of the offer you accepted?'] = data['What is the job profile of the offer you accepted?'].map({'Data Science and Analytics':5,'Software Development':7,\"Core Engineering and Technology\":5,'Consulting':5,'Quant and Finance':8,'Research and Development':4,'Product Management':5,\"FMCG\":6, 'Business Development':3, 'Management Traine':3,\n",
        "       'Post graduate engineer trainee':3, 'Modem System Engineer':3,\n",
        "       'Not placed yet':1, 'Tutor':3, 'Not yet placed':1, 'Management Trainee':3,\n",
        "       'Business associate':3, 'Business analyst ':3, 'Hardware engineer':3,\n",
        "       'Not offered':1, 'not placed':1, 'Operations':3})"
      ],
      "metadata": {
        "id": "pgQDtbgWDbU3"
      },
      "execution_count": null,
      "outputs": []
    },
    {
      "cell_type": "code",
      "source": [
        "data[\"What is the job profile of the offer you accepted?\"] = data[\"What is the job profile of the offer you accepted?\"].fillna(3)"
      ],
      "metadata": {
        "id": "i4uxk2fDFsDM"
      },
      "execution_count": null,
      "outputs": []
    },
    {
      "cell_type": "code",
      "source": [
        "data[\"Which degree are you pursuing?\"] = data[\"Which degree are you pursuing?\"].map({'B.Tech':4,'Dual Degree':3,\"M.Tech\":2,'MA':1,'MS':1,'MSc':0,'PhD':5})"
      ],
      "metadata": {
        "id": "KsZFipfR_c_o"
      },
      "execution_count": null,
      "outputs": []
    },
    {
      "cell_type": "code",
      "source": [
        "data[\"In which stream did you complete your minors?\"] = data[\"In which stream did you complete your minors?\"].map({\"CH\":3,'BT':3,'CE':2,'CS':4,'HS':2,'MA':2,'MM':1,\"PH\":4,\"I haven't done any minors\":0})"
      ],
      "metadata": {
        "id": "cfPatbWsBIdw"
      },
      "execution_count": null,
      "outputs": []
    },
    {
      "cell_type": "code",
      "source": [
        "data[\"In which stream did you complete your minors?\"] = data[\"In which stream did you complete your minors?\"].fillna(0)"
      ],
      "metadata": {
        "id": "DpQut8GvB4Fg"
      },
      "execution_count": null,
      "outputs": []
    },
    {
      "cell_type": "code",
      "source": [
        "data = data[data['What was the CTC of your offer? (LPA) (E.g. 24.5)'].notna()]"
      ],
      "metadata": {
        "id": "6lO-gfMN92jq"
      },
      "execution_count": null,
      "outputs": []
    },
    {
      "cell_type": "markdown",
      "source": [
        "Possible factors:\n",
        "Department\n",
        "Gender\n",
        "Degree\n",
        "No of internships\n",
        "Stream you wanna go\n",
        "Minors\n",
        "IDDD\n",
        "When did they start preps"
      ],
      "metadata": {
        "id": "0WKK8R1B-_u7"
      }
    },
    {
      "cell_type": "code",
      "source": [
        "data[\"Gender\"] = data[\"Gender\"].map({'Male':0,'Female':1,'Prefer not to say':3})"
      ],
      "metadata": {
        "id": "D15yFs3z-1Wz"
      },
      "execution_count": null,
      "outputs": []
    },
    {
      "cell_type": "code",
      "source": [
        "data[\"Which department are you from?\"] = data[\"Which department are you from?\"].map({'CS':4,'EE':3,\"ME\":1,'CH':1,'CE':1,'BT':1,'AE':1,'ED':1,'MM':1,'MA':1,'PH':1,'AM':1,'EP':1,\"HS\":1,\"BS\":1})"
      ],
      "metadata": {
        "id": "fJrLmrMJAtYC"
      },
      "execution_count": null,
      "outputs": []
    },
    {
      "cell_type": "code",
      "source": [
        "data[\"Rate your coding skills\"] = data[\"Rate your coding skills\"].fillna(0)\n",
        "data[\"Rate your ML skills\"] = data[\"Rate your ML skills\"].fillna(0)\n",
        "data[\"Rate your quant skills\"] = data[\"Rate your quant skills\"].fillna(0)"
      ],
      "metadata": {
        "id": "pJvkaynxOe4X"
      },
      "execution_count": null,
      "outputs": []
    },
    {
      "cell_type": "code",
      "source": [
        "data[\"Which degree are you pursuing?\"].value_counts()"
      ],
      "metadata": {
        "colab": {
          "base_uri": "https://localhost:8080/"
        },
        "id": "mOJ5nH3z-ICR",
        "outputId": "5f211207-6b9d-418b-9c30-2cd5a8b44635"
      },
      "execution_count": null,
      "outputs": [
        {
          "output_type": "execute_result",
          "data": {
            "text/plain": [
              "3.0    109\n",
              "4.0     96\n",
              "2.0     57\n",
              "1.0     33\n",
              "5.0      2\n",
              "0.0      1\n",
              "Name: Which degree are you pursuing?, dtype: int64"
            ]
          },
          "metadata": {},
          "execution_count": 13
        }
      ]
    },
    {
      "cell_type": "code",
      "source": [
        "data[\"Which department are you from?\"] = data[\"Which department are you from?\"].fillna(1)"
      ],
      "metadata": {
        "id": "oyXp32zjFlph"
      },
      "execution_count": null,
      "outputs": []
    },
    {
      "cell_type": "code",
      "source": [
        "data[\"How many internships have you completed? (E.g. 2)\"] = data[\"How many internships have you completed? (E.g. 2)\"].fillna(data[\"How many internships have you completed? (E.g. 2)\"].median())"
      ],
      "metadata": {
        "id": "4KG8BNQYHrUx"
      },
      "execution_count": null,
      "outputs": []
    },
    {
      "cell_type": "code",
      "source": [
        "data[\"What was your CGPA when you sat for placements? (E.g. 9.00)\"] = data[\"What was your CGPA when you sat for placements? (E.g. 9.00)\"].fillna(data[\"What was your CGPA when you sat for placements? (E.g. 9.00)\"].median())"
      ],
      "metadata": {
        "id": "g4mmcjKwIgpZ"
      },
      "execution_count": null,
      "outputs": []
    },
    {
      "cell_type": "code",
      "source": [
        "data[\"What was the CTC of your offer? (LPA) (E.g. 24.5)\"].isna().sum()"
      ],
      "metadata": {
        "colab": {
          "base_uri": "https://localhost:8080/"
        },
        "id": "0yIg-52AKAy2",
        "outputId": "5c155ad8-a8f9-40e0-b298-d39748958b6b"
      },
      "execution_count": null,
      "outputs": [
        {
          "output_type": "execute_result",
          "data": {
            "text/plain": [
              "0"
            ]
          },
          "metadata": {},
          "execution_count": 17
        }
      ]
    },
    {
      "cell_type": "code",
      "source": [
        "data[\"What was the CTC of your offer? (LPA) (E.g. 24.5)\"] = pd.cut(data[\"What was the CTC of your offer? (LPA) (E.g. 24.5)\"],bins=[5,12,18,25,35,50,300],labels=[0,1,2,3,4,5])"
      ],
      "metadata": {
        "id": "rh2QnZ1AKfTU"
      },
      "execution_count": null,
      "outputs": []
    },
    {
      "cell_type": "code",
      "source": [
        "data[\"What was the CTC of your offer? (LPA) (E.g. 24.5)\"].value_counts()"
      ],
      "metadata": {
        "colab": {
          "base_uri": "https://localhost:8080/"
        },
        "id": "yjub4fWEQONU",
        "outputId": "7cc6828f-43f8-4dd9-fc98-3a2d9792e4a1"
      },
      "execution_count": null,
      "outputs": [
        {
          "output_type": "execute_result",
          "data": {
            "text/plain": [
              "1    87\n",
              "2    71\n",
              "0    53\n",
              "3    40\n",
              "4    30\n",
              "5    17\n",
              "Name: What was the CTC of your offer? (LPA) (E.g. 24.5), dtype: int64"
            ]
          },
          "metadata": {},
          "execution_count": 19
        }
      ]
    },
    {
      "cell_type": "code",
      "source": [
        "columns = [\"Which department are you from?\",\"What was your CGPA when you sat for placements? (E.g. 9.00)\",\"Rate your coding skills\",\"Rate your ML skills\",\"Rate your quant skills\",\"Which degree are you pursuing?\",\"What is the job profile of the offer you accepted?\"]\n",
        "x = data[columns].values\n",
        "y = data[\"What was the CTC of your offer? (LPA) (E.g. 24.5)\"].values"
      ],
      "metadata": {
        "id": "aW3Uj1h4H1Q2"
      },
      "execution_count": null,
      "outputs": []
    },
    {
      "cell_type": "code",
      "source": [
        "from sklearn.model_selection import train_test_split"
      ],
      "metadata": {
        "id": "wtNJTe0pI9Nf"
      },
      "execution_count": null,
      "outputs": []
    },
    {
      "cell_type": "code",
      "source": [
        "x_train,x_test,y_train,y_test = train_test_split(x,y,test_size = 0.15 , random_state = 9)"
      ],
      "metadata": {
        "id": "LObMJMPsJGrt"
      },
      "execution_count": null,
      "outputs": []
    },
    {
      "cell_type": "code",
      "source": [
        "from sklearn.ensemble import RandomForestClassifier\n",
        "import xgboost as xgb"
      ],
      "metadata": {
        "id": "5pywK3XsJPwp"
      },
      "execution_count": null,
      "outputs": []
    },
    {
      "cell_type": "code",
      "source": [
        "rf = RandomForestClassifier()\n",
        "rf.fit(x_train,y_train)\n",
        "y_pred = rf.predict(x_test)\n"
      ],
      "metadata": {
        "id": "3IbETTPyJR01"
      },
      "execution_count": null,
      "outputs": []
    },
    {
      "cell_type": "code",
      "source": [
        "xg = xgb.XGBClassifier()\n",
        "xg.fit(x_train,y_train)\n",
        "y_pred = xg.predict(x_test)\n"
      ],
      "metadata": {
        "id": "ZwaCXWG3JYfX"
      },
      "execution_count": null,
      "outputs": []
    },
    {
      "cell_type": "code",
      "source": [
        "from sklearn.metrics import accuracy_score"
      ],
      "metadata": {
        "id": "b4U8lpnUJw1O"
      },
      "execution_count": null,
      "outputs": []
    },
    {
      "cell_type": "code",
      "source": [
        "accuracy_score(y_pred,y_test)"
      ],
      "metadata": {
        "colab": {
          "base_uri": "https://localhost:8080/"
        },
        "id": "JaDqqE_IL-DD",
        "outputId": "29bc2f2e-55ac-46b2-ba92-9d3ff0ba7408"
      },
      "execution_count": null,
      "outputs": [
        {
          "output_type": "execute_result",
          "data": {
            "text/plain": [
              "0.4666666666666667"
            ]
          },
          "metadata": {},
          "execution_count": 27
        }
      ]
    },
    {
      "cell_type": "code",
      "source": [
        "y_test[:10],y_pred[:10]"
      ],
      "metadata": {
        "colab": {
          "base_uri": "https://localhost:8080/"
        },
        "id": "eMcvtyc6MACg",
        "outputId": "6b0aa652-0c46-485d-c25d-4c66d18b7e51"
      },
      "execution_count": null,
      "outputs": [
        {
          "output_type": "execute_result",
          "data": {
            "text/plain": [
              "([3, 2, 0, 1, 2, 4, 2, 2, 3, 4]\n",
              " Categories (6, int64): [0 < 1 < 2 < 3 < 4 < 5],\n",
              " array([3, 2, 1, 1, 5, 1, 1, 2, 4, 4]))"
            ]
          },
          "metadata": {},
          "execution_count": 28
        }
      ]
    },
    {
      "cell_type": "markdown",
      "source": [
        "# Saving the model\n"
      ],
      "metadata": {
        "id": "0gJ_MfDSKmyO"
      }
    },
    {
      "cell_type": "code",
      "source": [
        "import pickle\n",
        "filename = '/content/drive/MyDrive/pl_model.sav'\n",
        "pickle.dump(xg, open(filename, 'wb'))\n",
        "f2 = '/content/drive/MyDrive/pl_model_xgb.bin'\n",
        "xg.save_model(f2)"
      ],
      "metadata": {
        "id": "F83ahc86KsgT"
      },
      "execution_count": null,
      "outputs": []
    },
    {
      "cell_type": "code",
      "source": [
        "loaded_model = pickle.load(open(filename, 'rb'))\n",
        "result = loaded_model.score(x_test, y_test)\n",
        "print(result)"
      ],
      "metadata": {
        "colab": {
          "base_uri": "https://localhost:8080/"
        },
        "id": "3lhBrj2qLUmy",
        "outputId": "67d505f6-f048-4980-a494-5022d33921d8"
      },
      "execution_count": null,
      "outputs": [
        {
          "output_type": "stream",
          "name": "stdout",
          "text": [
            "0.4666666666666667\n"
          ]
        }
      ]
    },
    {
      "cell_type": "markdown",
      "source": [
        "# Input from the user"
      ],
      "metadata": {
        "id": "HF4EP_r-get2"
      }
    },
    {
      "cell_type": "code",
      "source": [
        "def dashboard():\n",
        "  print(\"Hello user, we shall predict your placement CTC if you answer these questions. Lets get started!!!\")\n",
        "  print('*'*50)\n",
        "  print(\"Which department are you from?? (Type the department Code)\")\n",
        "  dep = input()\n",
        "  if dep == \"CS\":\n",
        "    dep = 4\n",
        "  elif dep == \"EE\":\n",
        "    dep = 3\n",
        "  else:\n",
        "    dep = 1\n",
        "  print(\"Enter your current CGPA!\")\n",
        "  cg = float(input())\n",
        "  print(\"Out of 5, rate your coding skills (1-5)\")\n",
        "  cod = int(input())\n",
        "  print(\"Out of 5, rate your Machine Learning skills (1-5)\")\n",
        "  ml = int(input())\n",
        "  print(\"Out of 5, rate your Quant skills (1-5)\")\n",
        "  qa = int(input())\n",
        "  deg = {'B.Tech':4,'Dual Degree':3,\"M.Tech\":2,'MA':1,'MS':1,'MSc':0,'PhD':5}\n",
        "  print(deg)\n",
        "  dg = int(input(\"Enter your degree number according to the above value\"))\n",
        "  print(\"What is the job profile of the offer you accepted?\")\n",
        "  job = {'Data Science and Analytics':5,'Software Development':7,\"Core Engineering and Technology\":5,'Consulting':5,'Quant and Finance':8,\n",
        "         'Research and Development':4,'Product Management':5,\"FMCG\":6,\"Others\":3\n",
        "       }\n",
        "  print(job)\n",
        "  jo = int(input(\"Enter your desired job profile number according to the above value\"))\n",
        "  inp = np.array([dep,cg,cod,ml,qa,dg,jo])\n",
        "  inp = inp.reshape(1,7)\n",
        "  out = xg.predict(inp)\n",
        "  bins = [5,12,18,25,35,50,300]\n",
        "  if out == 0:\n",
        "    print(\"Your CTC range shall be 5-12 LPA\")\n",
        "  elif out == 1:\n",
        "    print(\"Your CTC range shall be 12-18 LPA\")\n",
        "  elif out == 2:\n",
        "    print(\"Your CTC range shall be 18-25 LPA\")\n",
        "  elif out == 3:\n",
        "    print(\"Your CTC range shall be 25-35 LPA\")\n",
        "  elif out == 4:\n",
        "    print(\"Your CTC range shall be 35-50 LPA\")\n",
        "  elif out == 5:\n",
        "    print(\"Your CTC range shall be above 50 LPA\")"
      ],
      "metadata": {
        "id": "xyP1c9HC7te5"
      },
      "execution_count": null,
      "outputs": []
    },
    {
      "cell_type": "code",
      "source": [
        "dashboard()"
      ],
      "metadata": {
        "colab": {
          "base_uri": "https://localhost:8080/",
          "height": 589
        },
        "id": "9R4rld-0ICGj",
        "outputId": "41c532e5-ae78-46e7-c21a-15e0de12425a"
      },
      "execution_count": null,
      "outputs": [
        {
          "output_type": "stream",
          "name": "stdout",
          "text": [
            "Hello user, we shall predict your placement CTC if you answer these questions. Lets get started!!!\n",
            "**************************************************\n",
            "Which department are you from?? (Type the department Code)\n"
          ]
        },
        {
          "output_type": "error",
          "ename": "KeyboardInterrupt",
          "evalue": "ignored",
          "traceback": [
            "\u001b[0;31m---------------------------------------------------------------------------\u001b[0m",
            "\u001b[0;31mKeyboardInterrupt\u001b[0m                         Traceback (most recent call last)",
            "\u001b[0;32m/usr/local/lib/python3.7/dist-packages/ipykernel/kernelbase.py\u001b[0m in \u001b[0;36m_input_request\u001b[0;34m(self, prompt, ident, parent, password)\u001b[0m\n\u001b[1;32m    728\u001b[0m             \u001b[0;32mtry\u001b[0m\u001b[0;34m:\u001b[0m\u001b[0;34m\u001b[0m\u001b[0;34m\u001b[0m\u001b[0m\n\u001b[0;32m--> 729\u001b[0;31m                 \u001b[0mident\u001b[0m\u001b[0;34m,\u001b[0m \u001b[0mreply\u001b[0m \u001b[0;34m=\u001b[0m \u001b[0mself\u001b[0m\u001b[0;34m.\u001b[0m\u001b[0msession\u001b[0m\u001b[0;34m.\u001b[0m\u001b[0mrecv\u001b[0m\u001b[0;34m(\u001b[0m\u001b[0mself\u001b[0m\u001b[0;34m.\u001b[0m\u001b[0mstdin_socket\u001b[0m\u001b[0;34m,\u001b[0m \u001b[0;36m0\u001b[0m\u001b[0;34m)\u001b[0m\u001b[0;34m\u001b[0m\u001b[0;34m\u001b[0m\u001b[0m\n\u001b[0m\u001b[1;32m    730\u001b[0m             \u001b[0;32mexcept\u001b[0m \u001b[0mException\u001b[0m\u001b[0;34m:\u001b[0m\u001b[0;34m\u001b[0m\u001b[0;34m\u001b[0m\u001b[0m\n",
            "\u001b[0;32m/usr/local/lib/python3.7/dist-packages/jupyter_client/session.py\u001b[0m in \u001b[0;36mrecv\u001b[0;34m(self, socket, mode, content, copy)\u001b[0m\n\u001b[1;32m    802\u001b[0m         \u001b[0;32mtry\u001b[0m\u001b[0;34m:\u001b[0m\u001b[0;34m\u001b[0m\u001b[0;34m\u001b[0m\u001b[0m\n\u001b[0;32m--> 803\u001b[0;31m             \u001b[0mmsg_list\u001b[0m \u001b[0;34m=\u001b[0m \u001b[0msocket\u001b[0m\u001b[0;34m.\u001b[0m\u001b[0mrecv_multipart\u001b[0m\u001b[0;34m(\u001b[0m\u001b[0mmode\u001b[0m\u001b[0;34m,\u001b[0m \u001b[0mcopy\u001b[0m\u001b[0;34m=\u001b[0m\u001b[0mcopy\u001b[0m\u001b[0;34m)\u001b[0m\u001b[0;34m\u001b[0m\u001b[0;34m\u001b[0m\u001b[0m\n\u001b[0m\u001b[1;32m    804\u001b[0m         \u001b[0;32mexcept\u001b[0m \u001b[0mzmq\u001b[0m\u001b[0;34m.\u001b[0m\u001b[0mZMQError\u001b[0m \u001b[0;32mas\u001b[0m \u001b[0me\u001b[0m\u001b[0;34m:\u001b[0m\u001b[0;34m\u001b[0m\u001b[0;34m\u001b[0m\u001b[0m\n",
            "\u001b[0;32m/usr/local/lib/python3.7/dist-packages/zmq/sugar/socket.py\u001b[0m in \u001b[0;36mrecv_multipart\u001b[0;34m(self, flags, copy, track)\u001b[0m\n\u001b[1;32m    726\u001b[0m         \"\"\"\n\u001b[0;32m--> 727\u001b[0;31m         \u001b[0mparts\u001b[0m \u001b[0;34m=\u001b[0m \u001b[0;34m[\u001b[0m\u001b[0mself\u001b[0m\u001b[0;34m.\u001b[0m\u001b[0mrecv\u001b[0m\u001b[0;34m(\u001b[0m\u001b[0mflags\u001b[0m\u001b[0;34m,\u001b[0m \u001b[0mcopy\u001b[0m\u001b[0;34m=\u001b[0m\u001b[0mcopy\u001b[0m\u001b[0;34m,\u001b[0m \u001b[0mtrack\u001b[0m\u001b[0;34m=\u001b[0m\u001b[0mtrack\u001b[0m\u001b[0;34m)\u001b[0m\u001b[0;34m]\u001b[0m\u001b[0;34m\u001b[0m\u001b[0;34m\u001b[0m\u001b[0m\n\u001b[0m\u001b[1;32m    728\u001b[0m         \u001b[0;31m# have first part already, only loop while more to receive\u001b[0m\u001b[0;34m\u001b[0m\u001b[0;34m\u001b[0m\u001b[0;34m\u001b[0m\u001b[0m\n",
            "\u001b[0;32mzmq/backend/cython/socket.pyx\u001b[0m in \u001b[0;36mzmq.backend.cython.socket.Socket.recv\u001b[0;34m()\u001b[0m\n",
            "\u001b[0;32mzmq/backend/cython/socket.pyx\u001b[0m in \u001b[0;36mzmq.backend.cython.socket.Socket.recv\u001b[0;34m()\u001b[0m\n",
            "\u001b[0;32mzmq/backend/cython/socket.pyx\u001b[0m in \u001b[0;36mzmq.backend.cython.socket._recv_copy\u001b[0;34m()\u001b[0m\n",
            "\u001b[0;32m/usr/local/lib/python3.7/dist-packages/zmq/backend/cython/checkrc.pxd\u001b[0m in \u001b[0;36mzmq.backend.cython.checkrc._check_rc\u001b[0;34m()\u001b[0m\n",
            "\u001b[0;31mKeyboardInterrupt\u001b[0m: ",
            "\nDuring handling of the above exception, another exception occurred:\n",
            "\u001b[0;31mKeyboardInterrupt\u001b[0m                         Traceback (most recent call last)",
            "\u001b[0;32m<ipython-input-34-56a55e68b258>\u001b[0m in \u001b[0;36m<module>\u001b[0;34m()\u001b[0m\n\u001b[0;32m----> 1\u001b[0;31m \u001b[0mdashboard\u001b[0m\u001b[0;34m(\u001b[0m\u001b[0;34m)\u001b[0m\u001b[0;34m\u001b[0m\u001b[0;34m\u001b[0m\u001b[0m\n\u001b[0m",
            "\u001b[0;32m<ipython-input-31-0011d439630d>\u001b[0m in \u001b[0;36mdashboard\u001b[0;34m()\u001b[0m\n\u001b[1;32m      3\u001b[0m   \u001b[0mprint\u001b[0m\u001b[0;34m(\u001b[0m\u001b[0;34m'*'\u001b[0m\u001b[0;34m*\u001b[0m\u001b[0;36m50\u001b[0m\u001b[0;34m)\u001b[0m\u001b[0;34m\u001b[0m\u001b[0;34m\u001b[0m\u001b[0m\n\u001b[1;32m      4\u001b[0m   \u001b[0mprint\u001b[0m\u001b[0;34m(\u001b[0m\u001b[0;34m\"Which department are you from?? (Type the department Code)\"\u001b[0m\u001b[0;34m)\u001b[0m\u001b[0;34m\u001b[0m\u001b[0;34m\u001b[0m\u001b[0m\n\u001b[0;32m----> 5\u001b[0;31m   \u001b[0mdep\u001b[0m \u001b[0;34m=\u001b[0m \u001b[0minput\u001b[0m\u001b[0;34m(\u001b[0m\u001b[0;34m)\u001b[0m\u001b[0;34m\u001b[0m\u001b[0;34m\u001b[0m\u001b[0m\n\u001b[0m\u001b[1;32m      6\u001b[0m   \u001b[0;32mif\u001b[0m \u001b[0mdep\u001b[0m \u001b[0;34m==\u001b[0m \u001b[0;34m\"CS\"\u001b[0m\u001b[0;34m:\u001b[0m\u001b[0;34m\u001b[0m\u001b[0;34m\u001b[0m\u001b[0m\n\u001b[1;32m      7\u001b[0m     \u001b[0mdep\u001b[0m \u001b[0;34m=\u001b[0m \u001b[0;36m4\u001b[0m\u001b[0;34m\u001b[0m\u001b[0;34m\u001b[0m\u001b[0m\n",
            "\u001b[0;32m/usr/local/lib/python3.7/dist-packages/ipykernel/kernelbase.py\u001b[0m in \u001b[0;36mraw_input\u001b[0;34m(self, prompt)\u001b[0m\n\u001b[1;32m    702\u001b[0m             \u001b[0mself\u001b[0m\u001b[0;34m.\u001b[0m\u001b[0m_parent_ident\u001b[0m\u001b[0;34m,\u001b[0m\u001b[0;34m\u001b[0m\u001b[0;34m\u001b[0m\u001b[0m\n\u001b[1;32m    703\u001b[0m             \u001b[0mself\u001b[0m\u001b[0;34m.\u001b[0m\u001b[0m_parent_header\u001b[0m\u001b[0;34m,\u001b[0m\u001b[0;34m\u001b[0m\u001b[0;34m\u001b[0m\u001b[0m\n\u001b[0;32m--> 704\u001b[0;31m             \u001b[0mpassword\u001b[0m\u001b[0;34m=\u001b[0m\u001b[0;32mFalse\u001b[0m\u001b[0;34m,\u001b[0m\u001b[0;34m\u001b[0m\u001b[0;34m\u001b[0m\u001b[0m\n\u001b[0m\u001b[1;32m    705\u001b[0m         )\n\u001b[1;32m    706\u001b[0m \u001b[0;34m\u001b[0m\u001b[0m\n",
            "\u001b[0;32m/usr/local/lib/python3.7/dist-packages/ipykernel/kernelbase.py\u001b[0m in \u001b[0;36m_input_request\u001b[0;34m(self, prompt, ident, parent, password)\u001b[0m\n\u001b[1;32m    732\u001b[0m             \u001b[0;32mexcept\u001b[0m \u001b[0mKeyboardInterrupt\u001b[0m\u001b[0;34m:\u001b[0m\u001b[0;34m\u001b[0m\u001b[0;34m\u001b[0m\u001b[0m\n\u001b[1;32m    733\u001b[0m                 \u001b[0;31m# re-raise KeyboardInterrupt, to truncate traceback\u001b[0m\u001b[0;34m\u001b[0m\u001b[0;34m\u001b[0m\u001b[0;34m\u001b[0m\u001b[0m\n\u001b[0;32m--> 734\u001b[0;31m                 \u001b[0;32mraise\u001b[0m \u001b[0mKeyboardInterrupt\u001b[0m\u001b[0;34m\u001b[0m\u001b[0;34m\u001b[0m\u001b[0m\n\u001b[0m\u001b[1;32m    735\u001b[0m             \u001b[0;32melse\u001b[0m\u001b[0;34m:\u001b[0m\u001b[0;34m\u001b[0m\u001b[0;34m\u001b[0m\u001b[0m\n\u001b[1;32m    736\u001b[0m                 \u001b[0;32mbreak\u001b[0m\u001b[0;34m\u001b[0m\u001b[0;34m\u001b[0m\u001b[0m\n",
            "\u001b[0;31mKeyboardInterrupt\u001b[0m: "
          ]
        }
      ]
    },
    {
      "cell_type": "code",
      "source": [
        ""
      ],
      "metadata": {
        "id": "pQ-HRNKNrQai"
      },
      "execution_count": null,
      "outputs": []
    }
  ]
}